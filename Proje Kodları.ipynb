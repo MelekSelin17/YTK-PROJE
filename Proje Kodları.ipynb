{
 "cells": [
  {
   "cell_type": "code",
   "execution_count": 18,
   "id": "af5289a2-dfd1-4c4a-a793-76108ae58b5b",
   "metadata": {},
   "outputs": [
    {
     "name": "stdout",
     "output_type": "stream",
     "text": [
      "Anonimleştirilmiş dosya oluşturuldu: anonymized_metrics.json\n"
     ]
    }
   ],
   "source": [
    "import json\n",
    "import re\n",
    "\n",
    "# JSON dosyasını okuma\n",
    "input_file = \"Metrics.json\"\n",
    "output_file = \"anonymized_metrics.json\"\n",
    "\n",
    "with open(input_file, \"r\", encoding=\"utf-8\") as file:\n",
    "    data = json.load(file)\n",
    "\n",
    "# Anonimleştirme fonksiyonu\n",
    "def anonymize_data(data):\n",
    "    anonymized_data = []\n",
    "    class_mapping = {}\n",
    "    \n",
    "    for i, item in enumerate(data):\n",
    "        # Sınıf isimlerini anonimleştir\n",
    "        original_name = item[\"name\"]\n",
    "        anonymized_name = f\"Class{i+1}.cs\"\n",
    "        class_mapping[original_name] = anonymized_name\n",
    "        \n",
    "        # Yeni anonimleştirilmiş item oluşturma\n",
    "        anonymized_item = {\n",
    "            \"key\": f\"Project:Module/Class{i+1}.cs\",\n",
    "            \"name\": anonymized_name,\n",
    "            \"qualifier\": item[\"qualifier\"],\n",
    "            \"path\": f\"Project/Module/Class{i+1}.cs\",\n",
    "            \"language\": item[\"language\"],\n",
    "            \"measures\": item[\"measures\"],\n",
    "            \"commit_count\": item[\"commit_count\"],\n",
    "            \"commit_dates_and_types\": [\n",
    "                {\"date\": \"2024-01-01T00:00:00Z\", \"change_type\": commit[\"change_type\"]}\n",
    "                for commit in item[\"commit_dates_and_types\"]\n",
    "            ]\n",
    "        }\n",
    "        anonymized_data.append(anonymized_item)\n",
    "    \n",
    "    return anonymized_data, class_mapping\n",
    "\n",
    "# Veriyi anonimleştir\n",
    "anonymized_data, class_mapping = anonymize_data(data)\n",
    "\n",
    "# Yeni anonimleştirilmiş JSON dosyasını yazma\n",
    "with open(output_file, \"w\", encoding=\"utf-8\") as file:\n",
    "    json.dump(anonymized_data, file, indent=4, ensure_ascii=False)\n",
    "\n",
    "print(f\"Anonimleştirilmiş dosya oluşturuldu: {output_file}\")\n"
   ]
  },
  {
   "cell_type": "code",
   "execution_count": 19,
   "id": "1aa7fb3e-3f79-4dbe-8157-2bddc0986e3e",
   "metadata": {},
   "outputs": [
    {
     "name": "stdout",
     "output_type": "stream",
     "text": [
      "Verilerin ilk 5 satırı:\n",
      "        name  complexity  ncloc  coverage  uncovered_lines  functions  \\\n",
      "0  Class1.cs         8.0   10.0     100.0              0.0        8.0   \n",
      "1  Class2.cs         1.0   11.0     100.0              0.0        1.0   \n",
      "2  Class3.cs        15.0  110.0      51.1             33.0        8.0   \n",
      "3  Class4.cs         0.0   14.0       0.0              0.0        0.0   \n",
      "4  Class5.cs         0.0   14.0       0.0              0.0        0.0   \n",
      "\n",
      "   security_rating  edit_count  \n",
      "0              1.0           0  \n",
      "1              1.0           6  \n",
      "2              1.0           3  \n",
      "3              1.0           4  \n",
      "4              1.0           4  \n"
     ]
    }
   ],
   "source": [
    "import json\n",
    "import pandas as pd\n",
    "\n",
    "# JSON dosyasını yükleme\n",
    "file_path = 'anonymized_metrics.json'  \n",
    "with open(file_path, 'r') as file:\n",
    "    data = json.load(file)\n",
    "\n",
    "# Metrikleri düzenleme ve DataFrame'e dönüştürme\n",
    "class_data = []\n",
    "for item in data:\n",
    "    def safe_float(value, default=0):\n",
    "        \"\"\"Değeri güvenle float'a çevir, yoksa varsayılan değeri ata.\"\"\"\n",
    "        try:\n",
    "            return float(value) if value != 'None' else default\n",
    "        except ValueError:\n",
    "            return default\n",
    "\n",
    "    # Edit edilen commit'leri hesaplama\n",
    "    edit_count = sum(1 for commit in item.get(\"commit_dates_and_types\", []) if commit['change_type'] == 'edit')\n",
    "\n",
    "    class_info = {\n",
    "        \"name\": item[\"name\"],\n",
    "        \"complexity\": safe_float(next((m['value'] for m in item['measures'] if m['metric'] == 'complexity'), None)),\n",
    "        \"ncloc\": safe_float(next((m['value'] for m in item['measures'] if m['metric'] == 'ncloc'), None)),\n",
    "        \"coverage\": safe_float(next((m['value'] for m in item['measures'] if m['metric'] == 'coverage'), 0)),  # Test kapsamı için varsayılan değer 0\n",
    "        \"uncovered_lines\": safe_float(next((m['value'] for m in item['measures'] if m['metric'] == 'uncovered_lines'), None)),\n",
    "        \"functions\": safe_float(next((m['value'] for m in item['measures'] if m['metric'] == 'functions'), None)),\n",
    "        \"security_rating\": safe_float(next((m['value'] for m in item['measures'] if m['metric'] == 'security_rating'), 1.0)),  # Varsayılan güvenlik seviyesi\n",
    "        \"edit_count\": edit_count  # Edit edilen commit'lerin sayısı\n",
    "    }\n",
    "    class_data.append(class_info)\n",
    "\n",
    "# DataFrame oluşturma\n",
    "df = pd.DataFrame(class_data)\n",
    "\n",
    "# Eksik değerleri doldurma\n",
    "for column in ['complexity', 'ncloc', 'uncovered_lines', 'functions']:\n",
    "    df[column].fillna(df[column].mean(), inplace=True)  # Eksik değerleri sütun ortalamasıyla doldur\n",
    "\n",
    "# İlk birkaç satırı gözlemleme\n",
    "print(\"Verilerin ilk 5 satırı:\")\n",
    "print(df.head())\n"
   ]
  },
  {
   "cell_type": "code",
   "execution_count": 20,
   "id": "546e9cb4-40c5-41df-9fa5-d61400092497",
   "metadata": {},
   "outputs": [
    {
     "name": "stdout",
     "output_type": "stream",
     "text": [
      "Genel metrik istatistikleri:\n",
      "       complexity       ncloc    coverage  uncovered_lines  functions  \\\n",
      "count   63.000000   63.000000   63.000000        63.000000  63.000000   \n",
      "mean     5.809524   25.523810   77.388889         3.714286   4.603175   \n",
      "std      5.570247   29.837115   38.348412        15.226705   4.278754   \n",
      "min      0.000000    7.000000    0.000000         0.000000   0.000000   \n",
      "25%      2.000000   10.000000   69.000000         0.000000   2.000000   \n",
      "50%      4.000000   14.000000  100.000000         0.000000   3.000000   \n",
      "75%      9.000000   25.500000  100.000000         0.000000   8.000000   \n",
      "max     22.000000  149.000000  100.000000       114.000000  16.000000   \n",
      "\n",
      "       security_rating  edit_count  \n",
      "count             63.0   63.000000  \n",
      "mean               1.0    2.047619  \n",
      "std                0.0    2.478479  \n",
      "min                1.0    0.000000  \n",
      "25%                1.0    0.000000  \n",
      "50%                1.0    0.000000  \n",
      "75%                1.0    4.000000  \n",
      "max                1.0    8.000000  \n",
      "Karmaşıklık ve işlev sayısı (ilk 5 sınıf):\n",
      "        name  complexity  functions\n",
      "0  Class1.cs         8.0        8.0\n",
      "1  Class2.cs         1.0        1.0\n",
      "2  Class3.cs        15.0        8.0\n",
      "3  Class4.cs         0.0        0.0\n",
      "4  Class5.cs         0.0        0.0\n",
      "Test kapsamı ve uncovered_lines (ilk 5 sınıf):\n",
      "        name  coverage  uncovered_lines\n",
      "0  Class1.cs     100.0              0.0\n",
      "1  Class2.cs     100.0              0.0\n",
      "2  Class3.cs      51.1             33.0\n",
      "3  Class4.cs       0.0              0.0\n",
      "4  Class5.cs       0.0              0.0\n"
     ]
    }
   ],
   "source": [
    "# Sınıfların genel istatistiklerini çıkarma\n",
    "print(\"Genel metrik istatistikleri:\")\n",
    "print(df.describe())\n",
    "\n",
    "# Karmaşıklık ve işlev sayısı ilişkisini inceleme\n",
    "print(\"Karmaşıklık ve işlev sayısı (ilk 5 sınıf):\")\n",
    "print(df[['name', 'complexity', 'functions']].head())\n",
    "\n",
    "# Test kapsama oranını gözlemleme\n",
    "print(\"Test kapsamı ve uncovered_lines (ilk 5 sınıf):\")\n",
    "print(df[['name', 'coverage', 'uncovered_lines']].head())\n"
   ]
  },
  {
   "cell_type": "code",
   "execution_count": 21,
   "id": "db0a9d8e-d3cb-4d63-ab00-3799cac1666e",
   "metadata": {},
   "outputs": [],
   "source": [
    "def calculate_code_complexity_risk(row):\n",
    "    # Karmaşıklık ve ncloc için normalizasyon\n",
    "    complexity_risk = min(row['complexity'] / 20, 1.0)  # 20 üstü karmaşıklık tam risk\n",
    "    ncloc_risk = min(row['ncloc'] / 200, 1.0)  # 200 üstü satır tam risk\n",
    "    return 0.5 * complexity_risk + 0.5 * ncloc_risk\n"
   ]
  },
  {
   "cell_type": "code",
   "execution_count": 22,
   "id": "8d038579-60c3-4336-abb5-3d225cfc26b9",
   "metadata": {},
   "outputs": [],
   "source": [
    "def calculate_testability_risk(row):\n",
    "    # Test kapsama ve uncovered_lines için normalizasyon\n",
    "    uncovered_risk = min(row['uncovered_lines'] / 30, 1.0)  # 30 satırdan fazla eksik test tam risk\n",
    "    coverage_risk = 1 - min(row['coverage'] / 100, 1.0)  # 100% kapsama 0 risk\n",
    "    return 0.5 * uncovered_risk + 0.5 * coverage_risk\n"
   ]
  },
  {
   "cell_type": "code",
   "execution_count": 23,
   "id": "f1ea835e-878e-4343-8ad2-97ff9bbd5279",
   "metadata": {},
   "outputs": [],
   "source": [
    "def calculate_change_stability_risk(row):\n",
    "    # Functions ve edit_count için normalizasyon\n",
    "    functions_risk = min(row['functions'] / 15, 1.0)  # 15 metot üstü tam risk\n",
    "    edit_count_risk = min(row['edit_count'] / 10, 1.0)  # 10 düzenleme üstü tam risk\n",
    "    return 0.5 * functions_risk + 0.5 * edit_count_risk\n"
   ]
  },
  {
   "cell_type": "code",
   "execution_count": 24,
   "id": "d1f8bef5-df07-4e7b-9a25-9a17f48cff43",
   "metadata": {},
   "outputs": [],
   "source": [
    "def calculate_security_risk(row):\n",
    "    # Security rating: 1.0 güvenli, diğer değerler tam risk\n",
    "    return 1.0 if row['security_rating'] != 1.0 else 0.0\n"
   ]
  },
  {
   "cell_type": "code",
   "execution_count": 25,
   "id": "0a91884d-1a0e-4722-9e3d-357ace288aa1",
   "metadata": {},
   "outputs": [
    {
     "name": "stdout",
     "output_type": "stream",
     "text": [
      "Alt riskler (normalleştirilmiş):\n",
      "        name  complexity_risk  testability_risk  change_stability_risk  \\\n",
      "0  Class1.cs           0.2250            0.0000               0.266667   \n",
      "1  Class2.cs           0.0525            0.0000               0.333333   \n",
      "2  Class3.cs           0.6500            0.7445               0.416667   \n",
      "3  Class4.cs           0.0350            0.5000               0.200000   \n",
      "4  Class5.cs           0.0350            0.5000               0.200000   \n",
      "\n",
      "   security_risk  \n",
      "0            0.0  \n",
      "1            0.0  \n",
      "2            0.0  \n",
      "3            0.0  \n",
      "4            0.0  \n"
     ]
    }
   ],
   "source": [
    "# Alt riskleri hesaplayarak DataFrame'e ekleme\n",
    "df['complexity_risk'] = df.apply(calculate_code_complexity_risk, axis=1)\n",
    "df['testability_risk'] = df.apply(calculate_testability_risk, axis=1)\n",
    "df['change_stability_risk'] = df.apply(calculate_change_stability_risk, axis=1)\n",
    "df['security_risk'] = df.apply(calculate_security_risk, axis=1)\n",
    "\n",
    "# İlk birkaç satırı gözlemleme\n",
    "print(\"Alt riskler (normalleştirilmiş):\")\n",
    "print(df[['name', 'complexity_risk', 'testability_risk', 'change_stability_risk', 'security_risk']].head())\n"
   ]
  },
  {
   "cell_type": "code",
   "execution_count": 26,
   "id": "20e5f135-626e-4e9c-8723-940f946c4df7",
   "metadata": {},
   "outputs": [
    {
     "name": "stdout",
     "output_type": "stream",
     "text": [
      "Karakteristikler (normalleştirilmiş, ilk 5 satır risk değerleri):\n",
      "        name  modifiability  testability\n",
      "0  Class1.cs       0.241667      0.00000\n",
      "1  Class2.cs       0.164833      0.00000\n",
      "2  Class3.cs       0.556667      0.52115\n",
      "3  Class4.cs       0.101000      0.35000\n",
      "4  Class5.cs       0.101000      0.35000\n"
     ]
    }
   ],
   "source": [
    "# Karakteristik hesaplamaları\n",
    "def calculate_modifiability(row):\n",
    "    # Modifiability = %60 complexity + %40 change_stability\n",
    "    return 0.6 * row['complexity_risk'] + 0.4 * row['change_stability_risk']\n",
    "\n",
    "def calculate_testability(row):\n",
    "    # Testability = %70 testability_risk + %30 security_risk\n",
    "    return 0.7 * row['testability_risk'] + 0.3 * row['security_risk']\n",
    "\n",
    "# Karakteristikleri DataFrame'e ekleme\n",
    "df['modifiability'] = df.apply(calculate_modifiability, axis=1)\n",
    "df['testability'] = df.apply(calculate_testability, axis=1)\n",
    "\n",
    "# İlk birkaç satırı gözlemleme\n",
    "print(\"Karakteristikler (normalleştirilmiş, ilk 5 satır risk değerleri):\")\n",
    "print(df[['name', 'modifiability', 'testability']].head())\n"
   ]
  },
  {
   "cell_type": "code",
   "execution_count": 27,
   "id": "9302a141-cb2b-482b-87cc-21287ede698c",
   "metadata": {},
   "outputs": [
    {
     "name": "stdout",
     "output_type": "stream",
     "text": [
      "Maintainability Risk (ilk 5 satır):\n",
      "        name  modifiability  testability  maintainability_risk\n",
      "0  Class1.cs       0.241667      0.00000              0.169167\n",
      "1  Class2.cs       0.164833      0.00000              0.115383\n",
      "2  Class3.cs       0.556667      0.52115              0.546012\n",
      "3  Class4.cs       0.101000      0.35000              0.175700\n",
      "4  Class5.cs       0.101000      0.35000              0.175700\n"
     ]
    }
   ],
   "source": [
    "# Maintainability risk hesaplama\n",
    "def calculate_maintainability_risk(row):\n",
    "    # Maintainability = %70 modifiability + %30 testability\n",
    "    return 0.7 * row['modifiability'] + 0.3 * row['testability']\n",
    "\n",
    "# Maintainability risk ekleme\n",
    "df['maintainability_risk'] = df.apply(calculate_maintainability_risk, axis=1)\n",
    "\n",
    "# İlk birkaç satırı gözlemleme\n",
    "print(\"Maintainability Risk (ilk 5 satır):\")\n",
    "print(df[['name', 'modifiability', 'testability', 'maintainability_risk']].head())\n"
   ]
  },
  {
   "cell_type": "code",
   "execution_count": 28,
   "id": "8ac4bb9a-0b6a-4078-b08f-3f34c71aaaae",
   "metadata": {},
   "outputs": [
    {
     "data": {
      "image/png": "[encoded data removed]",
      "text/plain": [
       "<Figure size 1000x600 with 1 Axes>"
      ]
     },
     "metadata": {},
     "output_type": "display_data"
    }
   ],
   "source": [
    "import matplotlib.pyplot as plt\n",
    "\n",
    "# Maintainability risk histogramı\n",
    "plt.figure(figsize=(10, 6))\n",
    "plt.hist(df['maintainability_risk'], bins=10, color='salmon', edgecolor='black', alpha=0.7)\n",
    "plt.title(\"Maintainability Risk Dağılımı\", fontsize=14)\n",
    "plt.xlabel(\"Maintainability Risk\")\n",
    "plt.ylabel(\"Frekans\")\n",
    "plt.grid(alpha=0.3)\n",
    "plt.show()\n"
   ]
  },
  {
   "cell_type": "code",
   "execution_count": 37,
   "id": "7cc20446-1b47-4def-9bce-667598ccfa26",
   "metadata": {},
   "outputs": [
    {
     "name": "stdout",
     "output_type": "stream",
     "text": [
      "Maintainability'e Göre Riskli Sınıflar ve Öneriler:\n",
      "Sınıf Adı: Class32.cs\n",
      "Maintainability Risk: 0.6815\n",
      "Öneriler: Karmaşıklığı azaltın ve kodu daha modüler hale getirin.; Test kapsamını artırın ve uncovered lines sorunlarını çözün.\n",
      "--------------------------------------------------\n",
      "Sınıf Adı: Class3.cs\n",
      "Maintainability Risk: 0.5460\n",
      "Öneriler: Genel kod kalitesini iyileştirmek için sınıf yapısını gözden geçirin.\n",
      "--------------------------------------------------\n",
      "Sınıf Adı: Class17.cs\n",
      "Maintainability Risk: 0.5422\n",
      "Öneriler: Karmaşıklığı azaltın ve kodu daha modüler hale getirin.\n",
      "--------------------------------------------------\n",
      "Sınıf Adı: Class48.cs\n",
      "Maintainability Risk: 0.4536\n",
      "Öneriler: Genel kod kalitesini iyileştirmek için sınıf yapısını gözden geçirin.\n",
      "--------------------------------------------------\n",
      "Sınıf Adı: Class22.cs\n",
      "Maintainability Risk: 0.4342\n",
      "Öneriler: Genel kod kalitesini iyileştirmek için sınıf yapısını gözden geçirin.\n",
      "--------------------------------------------------\n"
     ]
    }
   ],
   "source": [
    "# En riskli sınıfları seçme\n",
    "most_risky_classes = df.sort_values(by='maintainability_risk', ascending=False).head(5)\n",
    "\n",
    "# Öneriler oluşturma fonksiyonu\n",
    "def generate_recommendations(row):\n",
    "    recommendations = []\n",
    "    # Modifiability kontrolü\n",
    " # Modifiability kontrolü\n",
    "    if row['modifiability'] > 0.6:\n",
    "        recommendations.append(\"Karmaşıklığı azaltın ve kodu daha modüler hale getirin.\")\n",
    "    # Testability kontrolü\n",
    "    if row['testability'] > 0.6:\n",
    "        recommendations.append(\"Test kapsamını artırın ve uncovered lines sorunlarını çözün.\")\n",
    "    # Eğer hiçbir öneri yoksa\n",
    "    if not recommendations:\n",
    "        recommendations.append(\"Genel kod kalitesini iyileştirmek için sınıf yapısını gözden geçirin.\")\n",
    "    return \"; \".join(recommendations)\n",
    "\n",
    "# Önerileri ekleyerek yeni bir sütun oluşturma\n",
    "most_risky_classes['recommendations'] = most_risky_classes.apply(generate_recommendations, axis=1)\n",
    "\n",
    "# Sonuçları yazdırma\n",
    "print(\"Maintainability'e Göre Riskli Sınıflar ve Öneriler:\")\n",
    "for index, row in most_risky_classes.iterrows():\n",
    "    print(f\"Sınıf Adı: {row['name']}\")\n",
    "    print(f\"Maintainability Risk: {row['maintainability_risk']:.4f}\")\n",
    "    print(f\"Öneriler: {row['recommendations']}\")\n",
    "    print(\"-\" * 50)\n"
   ]
  },
  {
   "cell_type": "code",
   "execution_count": 31,
   "id": "6c0b2896-701d-45f5-9459-cd0220c42ae5",
   "metadata": {},
   "outputs": [
    {
     "name": "stdout",
     "output_type": "stream",
     "text": [
      "Ortalama Maintainability Risk: 0.19\n",
      "Risk Seviyelerine Göre Dağılım:\n",
      "risk_level\n",
      "Low Risk       50\n",
      "Medium Risk    12\n",
      "High Risk       1\n",
      "Name: count, dtype: int64\n"
     ]
    }
   ],
   "source": [
    "# Ortalama risk hesaplama\n",
    "average_risk = df['maintainability_risk'].mean()\n",
    "print(f\"Ortalama Maintainability Risk: {average_risk:.2f}\")\n",
    "\n",
    "# Risk seviyelerine göre sınıflandırma\n",
    "def classify_risk_level(risk):\n",
    "    if risk >= 0.6:\n",
    "        return 'High Risk'\n",
    "    elif risk >= 0.3:\n",
    "        return 'Medium Risk'\n",
    "    else:\n",
    "        return 'Low Risk'\n",
    "\n",
    "df['risk_level'] = df['maintainability_risk'].apply(classify_risk_level)\n",
    "\n",
    "# Risk seviyelerine göre sınıf sayıları\n",
    "risk_distribution = df['risk_level'].value_counts()\n",
    "print(\"Risk Seviyelerine Göre Dağılım:\")\n",
    "print(risk_distribution)\n"
   ]
  },
  {
   "cell_type": "code",
   "execution_count": 32,
   "id": "410e3102-38be-4487-86a2-3deb489b8da7",
   "metadata": {},
   "outputs": [
    {
     "data": {
      "image/png": "[encoded data removed]",
      "text/plain": [
       "<Figure size 800x600 with 1 Axes>"
      ]
     },
     "metadata": {},
     "output_type": "display_data"
    }
   ],
   "source": [
    "# Risk seviyesi dağılımı\n",
    "plt.figure(figsize=(8, 6))\n",
    "risk_distribution.plot(kind='bar', color=['green', 'yellow', 'red'], alpha=0.7, edgecolor='black')\n",
    "plt.title(\"Maintainability Risk Seviyelerine Göre Dağılım\", fontsize=14)\n",
    "plt.xlabel(\"Risk Seviyesi\")\n",
    "plt.ylabel(\"Sınıf Sayısı\")\n",
    "plt.grid(axis='y', alpha=0.3)\n",
    "plt.show()\n"
   ]
  },
  {
   "cell_type": "code",
   "execution_count": 33,
   "id": "d132e7b1-172e-458e-97f1-eb27347b584d",
   "metadata": {},
   "outputs": [
    {
     "name": "stdout",
     "output_type": "stream",
     "text": [
      "Yüksek Riskli Sınıflar (Detaylı):\n",
      "          name  modifiability  testability\n",
      "31  Class32.cs         0.6735          0.7\n"
     ]
    }
   ],
   "source": [
    "# Yüksek riskli sınıflar\n",
    "high_risk_classes = df[df['risk_level'] == \"High Risk\"]\n",
    "\n",
    "# Detaylı risk analizi\n",
    "print(\"Yüksek Riskli Sınıflar (Detaylı):\")\n",
    "print(high_risk_classes[['name', 'modifiability', 'testability',]])\n"
   ]
  },
  {
   "cell_type": "code",
   "execution_count": null,
   "id": "fb5c8439-2697-422c-8eb6-3be273b15546",
   "metadata": {},
   "outputs": [],
   "source": []
  }
 ],
 "metadata": {
  "kernelspec": {
   "display_name": "Python 3 (ipykernel)",
   "language": "python",
   "name": "python3"
  },
  "language_info": {
   "codemirror_mode": {
    "name": "ipython",
    "version": 3
   },
   "file_extension": ".py",
   "mimetype": "text/x-python",
   "name": "python",
   "nbconvert_exporter": "python",
   "pygments_lexer": "ipython3",
   "version": "3.11.7"
  }
 },
 "nbformat": 4,
 "nbformat_minor": 5
}
